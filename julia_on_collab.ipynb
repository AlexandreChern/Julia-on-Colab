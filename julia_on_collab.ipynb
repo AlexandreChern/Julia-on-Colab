{
 "cells": [
  {
   "cell_type": "markdown",
   "metadata": {
    "colab_type": "text",
    "id": "view-in-github"
   },
   "source": [
    "<a href=\"https://colab.research.google.com/github/Dsantra92/Julia-on-Collab/blob/master/julia_on_collab.ipynb\" target=\"_parent\"><img src=\"https://colab.research.google.com/assets/colab-badge.svg\" alt=\"Open In Colab\"/></a>"
   ]
  },
  {
   "cell_type": "code",
   "execution_count": null,
   "metadata": {
    "colab": {},
    "colab_type": "code",
    "id": "PMGwZ7aFJL8Y"
   },
   "outputs": [],
   "source": [
    "# Installation cell\n",
    "%%shell\n",
    "if ! command -v julia 3>&1 > /dev/null\n",
    "then\n",
    "    wget 'https://julialang-s3.julialang.org/bin/linux/x64/1.3/julia-1.3.1-linux-x86_64.tar.gz' \\\n",
    "        -O /tmp/julia.tar.gz\n",
    "    tar -x -f /tmp/julia.tar.gz -C /usr/local --strip-components 1\n",
    "    rm /tmp/julia.tar.gz\n",
    "fi\n",
    "julia -e 'using Pkg; pkg\"add IJulia; precompile;\"'\n",
    "echo 'Done'"
   ]
  },
  {
   "cell_type": "markdown",
   "metadata": {
    "colab_type": "text",
    "id": "XdMpcQduyaQc"
   },
   "source": [
    "**After you have installed the first cell (the the cell directly above this text) go to Colab's \"Edit\" menu and select \"Notebook settings\" from the drop down. Select \"Julia 1.3\" as the runtime and \"GPU\" as the hadware accelerator.**<br/> <br/>You should see somthing like this:\n",
    "\n",
    "> ![alt text](https://drive.google.com/uc?id=1AeglaLmWI-zRXPCErofIZ4BH9zvPCwNy)\n",
    "<br/>Click on SAVE\n",
    "<br/>*We are ready to get going*\n",
    "\n",
    "\n",
    "\n"
   ]
  },
  {
   "cell_type": "code",
   "execution_count": null,
   "metadata": {
    "colab": {},
    "colab_type": "code",
    "id": "iIxu4TjlJnBG"
   },
   "outputs": [],
   "source": [
    "#Julia 1.3 Environment\n",
    "using Pkg\n",
    "pkg\"add BenchmarkTools; precompile;\"\n",
    "pkg\"add CuArrays; precompile;\""
   ]
  },
  {
   "cell_type": "markdown",
   "metadata": {
    "colab_type": "text",
    "id": "rR7Ox6Ax0ypi"
   },
   "source": [
    "The main reason we are interested in running Julia on Colab is the GPU functionality.\n",
    "<br/>*We have already installed libraries in the previous cell*.<br/>**Let's benchmark Colab's GPU performance:**"
   ]
  },
  {
   "cell_type": "code",
   "execution_count": null,
   "metadata": {
    "colab": {},
    "colab_type": "code",
    "id": "aMI2QjTuyXs2"
   },
   "outputs": [],
   "source": [
    "using BenchmarkTools\n",
    "\n",
    "mcpu = rand(2^10, 2^10)\n",
    "@benchmark mcpu*mcpu"
   ]
  },
  {
   "cell_type": "code",
   "execution_count": null,
   "metadata": {
    "colab": {},
    "colab_type": "code",
    "id": "8cbQqjGB0Otl"
   },
   "outputs": [],
   "source": [
    "using CuArrays\n",
    "\n",
    "mgpu = cu(mcpu)\n",
    "@benchmark CuArrays.@sync mgpu*mgpu"
   ]
  },
  {
   "cell_type": "markdown",
   "metadata": {
    "colab_type": "text",
    "id": "_Nhmie2E10dq"
   },
   "source": [
    "**The CuArrray operation should take around 1 ms, and should be much faster. If so, the GPU is working.**"
   ]
  },
  {
   "cell_type": "code",
   "execution_count": null,
   "metadata": {},
   "outputs": [],
   "source": []
  }
 ],
 "metadata": {
  "accelerator": "GPU",
  "colab": {
   "include_colab_link": true,
   "name": "julia_on_collab.ipynb",
   "provenance": []
  },
  "kernelspec": {
   "display_name": "Julia 1.3",
   "language": "julia",
   "name": "julia-1.3"
  },
  "language_info": {
   "file_extension": ".jl",
   "mimetype": "application/julia",
   "name": "julia",
   "version": "1.3"
  }
 },
 "nbformat": 4,
 "nbformat_minor": 1
}
