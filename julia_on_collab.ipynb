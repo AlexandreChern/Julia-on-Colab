{
  "nbformat": 4,
  "nbformat_minor": 0,
  "metadata": {
    "colab": {
      "name": "julia_on_collab.ipynb",
      "provenance": [],
      "include_colab_link": true
    },
    "kernelspec": {
      "name": "julia-1.3",
      "display_name": "Julia 1.3"
    },
    "accelerator": "GPU"
  },
  "cells": [
    {
      "cell_type": "markdown",
      "metadata": {
        "id": "view-in-github",
        "colab_type": "text"
      },
      "source": [
        "<a href=\"https://colab.research.google.com/github/Dsantra92/Julia-on-Collab/blob/master/julia_on_collab.ipynb\" target=\"_parent\"><img src=\"https://colab.research.google.com/assets/colab-badge.svg\" alt=\"Open In Colab\"/></a>"
      ]
    },
    {
      "cell_type": "code",
      "metadata": {
        "id": "PMGwZ7aFJL8Y",
        "colab_type": "code",
        "colab": {}
      },
      "source": [
        "# Installation cell\n",
        "%%shell\n",
        "if ! command -v julia 3>&1 > /dev/null\n",
        "then\n",
        "    wget 'https://julialang-s3.julialang.org/bin/linux/x64/1.3/julia-1.3.1-linux-x86_64.tar.gz' \\\n",
        "        -O /tmp/julia.tar.gz\n",
        "    tar -x -f /tmp/julia.tar.gz -C /usr/local --strip-components 1\n",
        "    rm /tmp/julia.tar.gz\n",
        "fi\n",
        "julia -e 'using Pkg; pkg\"add IJulia; precompile;\"'"
      ],
      "execution_count": 0,
      "outputs": []
    },
    {
      "cell_type": "markdown",
      "metadata": {
        "id": "XdMpcQduyaQc",
        "colab_type": "text"
      },
      "source": [
        "**After you have installed the first cell i.e. the the cell directly above this text cell go to the 'Edit' menu in the menu bar and select Notebook settings from the drop down.Select Julia 1.3 in Runtime and GPU as Hadware acc.**<br/> <br/>You should see somthing like this:\n",
        "\n",
        "> ![alt text](https://drive.google.com/uc?id=1AeglaLmWI-zRXPCErofIZ4BH9zvPCwNy)\n",
        "<br/>Click on SAVE\n",
        "<br/>*WE are ready to get going*\n",
        "\n",
        "\n",
        "\n"
      ]
    },
    {
      "cell_type": "code",
      "metadata": {
        "id": "iIxu4TjlJnBG",
        "colab_type": "code",
        "colab": {}
      },
      "source": [
        "#Julia 1.3.1 Environment\n",
        "using Pkg\n",
        "pkg\"add BenchmarkTools; precompile;\"\n",
        "pkg\"add Flux;precompile;\"\n",
        "pkg\"add CuArrays; precompile;\""
      ],
      "execution_count": 0,
      "outputs": []
    },
    {
      "cell_type": "markdown",
      "metadata": {
        "id": "rR7Ox6Ax0ypi",
        "colab_type": "text"
      },
      "source": [
        "The main reason we are interested in running Julia  on is the GPU functionality.\n",
        "<br/>*We have already installed libraries in the previous cell*.<br/>**Let's Check the performance on GPUs in Collab....**"
      ]
    },
    {
      "cell_type": "code",
      "metadata": {
        "id": "aMI2QjTuyXs2",
        "colab_type": "code",
        "colab": {}
      },
      "source": [
        "using BenchmarkTools\n",
        "\n",
        "mcpu = rand(2^10, 2^10)\n",
        "@benchmark mcpu*mcpu"
      ],
      "execution_count": 0,
      "outputs": []
    },
    {
      "cell_type": "code",
      "metadata": {
        "id": "8cbQqjGB0Otl",
        "colab_type": "code",
        "colab": {}
      },
      "source": [
        "using CuArrays\n",
        "mgpu = cu(mcpu)\n",
        "@benchmark CuArrays.@sync mgpu*mgpu"
      ],
      "execution_count": 0,
      "outputs": []
    },
    {
      "cell_type": "markdown",
      "metadata": {
        "id": "_Nhmie2E10dq",
        "colab_type": "text"
      },
      "source": [
        "**The CU Arrray takes time in order of 10^-3 for doing the calculation.So the GPU is working Fine**"
      ]
    },
    {
      "cell_type": "code",
      "metadata": {
        "id": "sGq0f3f200n8",
        "colab_type": "code",
        "colab": {}
      },
      "source": [
        ""
      ],
      "execution_count": 0,
      "outputs": []
    }
  ]
}